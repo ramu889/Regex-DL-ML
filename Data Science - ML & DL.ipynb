{
 "cells": [
  {
   "cell_type": "markdown",
   "id": "7c3b6b71",
   "metadata": {},
   "source": [
    "# DataScience - ML & DL\n",
    "# DIRSS1111\n",
    "# Rammohan Hanumantu\n",
    "# Lovely Professional University\n",
    "# Assignment - 1"
   ]
  },
  {
   "cell_type": "markdown",
   "id": "d883c041",
   "metadata": {},
   "source": [
    "# Pattern 1"
   ]
  },
  {
   "cell_type": "code",
   "execution_count": 1,
   "id": "86020769",
   "metadata": {},
   "outputs": [
    {
     "name": "stdout",
     "output_type": "stream",
     "text": [
      "5 5 5 5 5 \n",
      "5 5 5 5 \n",
      "5 5 5 \n",
      "5 5 \n",
      "5 \n"
     ]
    }
   ],
   "source": [
    "rows = 5\n",
    "for i in range(rows):\n",
    "    for j in range(rows-i):\n",
    "        print(rows, end=' ')\n",
    "    print('')"
   ]
  },
  {
   "cell_type": "markdown",
   "id": "1b15a437",
   "metadata": {},
   "source": [
    "# Pattern 2"
   ]
  },
  {
   "cell_type": "code",
   "execution_count": 2,
   "id": "73a68e15",
   "metadata": {},
   "outputs": [
    {
     "name": "stdout",
     "output_type": "stream",
     "text": [
      "0 1 2 3 4 5 \n",
      "0 1 2 3 4 \n",
      "0 1 2 3 \n",
      "0 1 2 \n",
      "0 1 \n",
      "\n"
     ]
    }
   ],
   "source": [
    "rows = 6\n",
    "for i in range(rows):\n",
    "    for j in range(rows-i):\n",
    "        if i==5 :\n",
    "            continue\n",
    "        else:\n",
    "            print((j+rows)-rows, end=' ')\n",
    "    print('')"
   ]
  },
  {
   "cell_type": "markdown",
   "id": "81b71322",
   "metadata": {},
   "source": [
    "# Pattern 3"
   ]
  },
  {
   "cell_type": "code",
   "execution_count": 3,
   "id": "51b89a9a",
   "metadata": {},
   "outputs": [
    {
     "name": "stdout",
     "output_type": "stream",
     "text": [
      "1 \n",
      "3 3 \n",
      "5 5 5 \n",
      "7 7 7 7 \n",
      "9 9 9 9 9 \n"
     ]
    }
   ],
   "source": [
    "rows = 10\n",
    "for i in range(rows):\n",
    "    if i%2>0:\n",
    "        for j in range(i):\n",
    "            # display number\n",
    "            if j%2==0:\n",
    "                print(i, end=' ')\n",
    "        print('')"
   ]
  },
  {
   "cell_type": "markdown",
   "id": "12bbe23d",
   "metadata": {},
   "source": [
    "# Pattern 4"
   ]
  },
  {
   "cell_type": "code",
   "execution_count": 4,
   "id": "7177060f",
   "metadata": {},
   "outputs": [
    {
     "name": "stdout",
     "output_type": "stream",
     "text": [
      "1 \n",
      "2 1 \n",
      "3 2 1 \n",
      "4 3 2 1 \n",
      "5 4 3 2 1 \n"
     ]
    }
   ],
   "source": [
    "rows = 6\n",
    "for i in range(1,rows):\n",
    "    for j in range(i):\n",
    "        print(i-j, end=' ')\n",
    "    print('')"
   ]
  },
  {
   "cell_type": "markdown",
   "id": "283047ba",
   "metadata": {},
   "source": [
    "# Pattern 5"
   ]
  },
  {
   "cell_type": "code",
   "execution_count": 5,
   "id": "b6627354",
   "metadata": {},
   "outputs": [
    {
     "name": "stdout",
     "output_type": "stream",
     "text": [
      "1 \n",
      "3 2 \n",
      "6 5 4 \n",
      "10 9 8 7 \n"
     ]
    }
   ],
   "source": [
    "rows =5\n",
    "cnt=0\n",
    "for i in range(1,rows):\n",
    "    # nested loop\n",
    "    cnt=cnt+i\n",
    "        #print(cnt)\n",
    "    for j in range(i):\n",
    "                # display number\n",
    "        print(cnt-j, end=' ')\n",
    "    print('')"
   ]
  },
  {
   "cell_type": "markdown",
   "id": "c9ecec41",
   "metadata": {},
   "source": [
    "# Pattern 6"
   ]
  },
  {
   "cell_type": "code",
   "execution_count": 6,
   "id": "2040f085",
   "metadata": {},
   "outputs": [
    {
     "name": "stdout",
     "output_type": "stream",
     "text": [
      "1 \n",
      "1 1 \n",
      "1 2 1 \n",
      "1 3 3 1 \n",
      "1 4 6 4 1 \n",
      "1 5 10 10 5 1 \n",
      "1 6 15 20 15 6 1 \n"
     ]
    }
   ],
   "source": [
    "rows =7\n",
    "k=0\n",
    "for i in range(0, rows):\n",
    "    print(1, end= \" \")\n",
    "    for j in range(0, i + 1):\n",
    "        num = 1\n",
    "        if k > i - j:\n",
    "            k = i - j\n",
    "    for k in range(0, j):\n",
    "        num = num * ( i- k)\n",
    "        num = num // (k + 1)\n",
    "        print(num, end=\" \")\n",
    "    print()\n"
   ]
  },
  {
   "cell_type": "markdown",
   "id": "ad8bf114",
   "metadata": {},
   "source": [
    "# Pattern 7"
   ]
  },
  {
   "cell_type": "code",
   "execution_count": 7,
   "id": "e764fc48",
   "metadata": {},
   "outputs": [
    {
     "name": "stdout",
     "output_type": "stream",
     "text": [
      "1 2 3 4 5 \n",
      "1 2 3 4 5 \n",
      "2 2 3 4 5 \n",
      "3 3 3 4 5 \n",
      "4 4 4 4 5 \n",
      "5 5 5 5 5 \n"
     ]
    }
   ],
   "source": [
    "rows=6\n",
    "for i in range(0,rows) :\n",
    "    b = 1\n",
    "    for j in range(1,rows) :\n",
    "        if j <=i:\n",
    "            print(i, end=' ')\n",
    "        else :\n",
    "            print(j, end=' ')\n",
    "    print()"
   ]
  },
  {
   "cell_type": "markdown",
   "id": "638d6876",
   "metadata": {},
   "source": [
    "# Pattern 8"
   ]
  },
  {
   "cell_type": "code",
   "execution_count": 8,
   "id": "9270677a",
   "metadata": {},
   "outputs": [
    {
     "name": "stdout",
     "output_type": "stream",
     "text": [
      "1 \n",
      "2 4 \n",
      "3 6 9 \n",
      "4 8 12 16 \n",
      "5 10 15 20 25 \n",
      "6 12 18 24 30 36 \n",
      "7 14 21 28 35 42 49 \n",
      "8 16 24 32 40 48 56 64 \n"
     ]
    }
   ],
   "source": [
    "rows=9\n",
    "for i in range(1,rows) :\n",
    "    for j in range(1,i+1) :\n",
    "        print(i * j, end =\" \")\n",
    "    print()"
   ]
  },
  {
   "cell_type": "markdown",
   "id": "bd919508",
   "metadata": {},
   "source": [
    "# Pattern 9"
   ]
  },
  {
   "cell_type": "code",
   "execution_count": 9,
   "id": "f5e93b3d",
   "metadata": {},
   "outputs": [
    {
     "name": "stdout",
     "output_type": "stream",
     "text": [
      " * * * * * * \n",
      "  * * * * * \n",
      "   * * * * \n",
      "    * * * \n",
      "     * * \n",
      "      * \n"
     ]
    }
   ],
   "source": [
    "a=6\n",
    "for x in range(0, a):\n",
    "\t\tfor y in range(0, x):\n",
    "\t\t\tprint(' ', end='')\n",
    "\t\tfor y in range(0, (a-x)):\n",
    "\t\t\tprint(' *', end='')\n",
    "\t\tprint(' ')"
   ]
  },
  {
   "cell_type": "markdown",
   "id": "fff73d8e",
   "metadata": {},
   "source": [
    "# Pattern 10"
   ]
  },
  {
   "cell_type": "code",
   "execution_count": 10,
   "id": "c86d2029",
   "metadata": {},
   "outputs": [
    {
     "name": "stdout",
     "output_type": "stream",
     "text": [
      "        * \n",
      "       *  * \n",
      "      *  *  * \n",
      "     *  *  *  * \n",
      "    *  *  *  *  * \n",
      "   *  *  *  *  *  * \n",
      "  *  *  *  *  *  *  * \n"
     ]
    }
   ],
   "source": [
    "a=7\n",
    "for x in range(0, a):\n",
    "\t\tfor y in range(0, int(a-x)):\n",
    "\t\t\tprint(' ', end='')\n",
    "\t\tfor y in range(0, x+1):\n",
    "\t\t\tprint(' * ', end='')\n",
    "\t\tprint('')"
   ]
  },
  {
   "cell_type": "markdown",
   "id": "fa94283f",
   "metadata": {},
   "source": [
    "# Pattern 11"
   ]
  },
  {
   "cell_type": "code",
   "execution_count": 11,
   "id": "59531b1c",
   "metadata": {},
   "outputs": [
    {
     "name": "stdout",
     "output_type": "stream",
     "text": [
      "* \n",
      "* * \n",
      "* * * \n",
      "* * * * \n",
      "* * * * * \n",
      "\n",
      "* * * * * \n",
      "* * * * \n",
      "* * * \n",
      "* * \n",
      "* \n",
      "\n"
     ]
    }
   ],
   "source": [
    "n=5\n",
    "for i in range(0,n):\n",
    "    for k in range(0,i+1):\n",
    "        print(\"* \",end='')\n",
    "    print()\n",
    "print('')    \n",
    "for i in range(n+1,0,-1):\n",
    "    for j in range(i-1,0,-1):\n",
    "        print(\"* \",end='')\n",
    "    print() "
   ]
  },
  {
   "cell_type": "markdown",
   "id": "5ed812a6",
   "metadata": {},
   "source": [
    "# Pattern 12"
   ]
  },
  {
   "cell_type": "code",
   "execution_count": 12,
   "id": "f1a2625a",
   "metadata": {},
   "outputs": [
    {
     "name": "stdout",
     "output_type": "stream",
     "text": [
      "* \n",
      "* * \n",
      "* * * \n",
      "* * * * \n",
      "* * * * * \n",
      "* * * * \n",
      "* * * \n",
      "* * \n",
      "* \n",
      "\n"
     ]
    }
   ],
   "source": [
    "rows=5\n",
    "for i in range(0,rows):\n",
    "    for k in range(0,i+1):\n",
    "        print(\"* \",end='')\n",
    "    print()\n",
    "for i in range(rows,0,-1):\n",
    "    for j in range(i-1,0,-1):\n",
    "        print(\"* \",end='')\n",
    "    print() "
   ]
  },
  {
   "cell_type": "markdown",
   "id": "1f193127",
   "metadata": {},
   "source": [
    "# Pattern 13"
   ]
  },
  {
   "cell_type": "code",
   "execution_count": 13,
   "id": "00b83c59",
   "metadata": {},
   "outputs": [
    {
     "name": "stdout",
     "output_type": "stream",
     "text": [
      "        * \n",
      "      * * \n",
      "    * * * \n",
      "  * * * * \n",
      "* * * * * \n",
      "  * * * * \n",
      "    * * * \n",
      "      * * \n",
      "        * \n"
     ]
    }
   ],
   "source": [
    "rows=5\n",
    "for i in range(0,n):\n",
    "    for j in range(0,rows-i-1):\n",
    "        print(\" \",end=' ')\n",
    "    for k in range(0,i+1):\n",
    "        print(\"*\",end=' ')\n",
    "    print()\n",
    "for i in range(rows-1,0,-1):\n",
    "    for j in range(rows,i,-1):\n",
    "        print(\" \",end=' ')\n",
    "    for k in range(i,0,-1):\n",
    "        print(\"*\",end=' ')\n",
    "    print() "
   ]
  },
  {
   "cell_type": "markdown",
   "id": "996bd060",
   "metadata": {},
   "source": [
    "# Pattern 14"
   ]
  },
  {
   "cell_type": "code",
   "execution_count": 14,
   "id": "7aec4c06",
   "metadata": {},
   "outputs": [
    {
     "name": "stdout",
     "output_type": "stream",
     "text": [
      "  * * * * * \r\n",
      "   * * * * \r\n",
      "    * * * \r\n",
      "     * * \r\n",
      "      * \r\n",
      "      * \r\n",
      "     * * \r\n",
      "    * * * \r\n",
      "   * * * * \r\n",
      "  * * * * * \r\n"
     ]
    }
   ],
   "source": [
    "def pattern(n):\n",
    "    k = n - 2\n",
    "    for i in range(n, -1 , -1):\n",
    "        for j in range(k , 0 , -1):\n",
    "            print(end=\" \")\n",
    "        k = k + 1    \n",
    "        for j in range(0, i+1):\n",
    "            print(\"* \" , end=\"\")\n",
    "        print(\"\\r\")\n",
    "    k = 2 * n  - 2\n",
    "    for i in range(0 , n+1):\n",
    "        for j in range(0 , k):\n",
    "            print(end=\" \")\n",
    "        k = k - 1\n",
    "        for j in range(0, i + 1):\n",
    "            print(\"* \", end=\"\")\n",
    "        print(\"\\r\")\n",
    " \n",
    "pattern(4)"
   ]
  },
  {
   "cell_type": "markdown",
   "id": "4b63a210",
   "metadata": {},
   "source": [
    "# Pattern 15"
   ]
  },
  {
   "cell_type": "code",
   "execution_count": 15,
   "id": "b2827466",
   "metadata": {},
   "outputs": [
    {
     "name": "stdout",
     "output_type": "stream",
     "text": [
      "****************\n",
      "*******__*******\n",
      "******____******\n",
      "*****______*****\n",
      "****________****\n",
      "***__________***\n",
      "**____________**\n",
      "*______________*\n"
     ]
    }
   ],
   "source": [
    "def pattern(n):\n",
    "    print(\"*\"*n, end=\"\\n\")\n",
    "    i = (n//2) - 1\n",
    "    j = 2\n",
    "    while i != 0:\n",
    "        while j <= (n-2) :\n",
    "            print(\"*\"*i, end=\"\")\n",
    "            print(\"_\"*j, end=\"\")\n",
    "            print(\"*\"*i, end=\"\\n\")\n",
    "            i-=1\n",
    "            j+=2\n",
    "pattern(16)"
   ]
  }
 ],
 "metadata": {
  "kernelspec": {
   "display_name": "Python 3",
   "language": "python",
   "name": "python3"
  },
  "language_info": {
   "codemirror_mode": {
    "name": "ipython",
    "version": 3
   },
   "file_extension": ".py",
   "mimetype": "text/x-python",
   "name": "python",
   "nbconvert_exporter": "python",
   "pygments_lexer": "ipython3",
   "version": "3.7.6"
  }
 },
 "nbformat": 4,
 "nbformat_minor": 5
}

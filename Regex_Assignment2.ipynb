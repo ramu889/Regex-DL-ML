{
 "cells": [
  {
   "cell_type": "markdown",
   "id": "28466716",
   "metadata": {},
   "source": [
    "# DataScience - ML & DL\n",
    "# DIRSS1111\n",
    "# Rammohan Hanumantu\n",
    "# Lovely Professional University\n",
    "# Assignment - 2\n",
    "# Question 1"
   ]
  },
  {
   "cell_type": "code",
   "execution_count": 1,
   "id": "54de3abd",
   "metadata": {},
   "outputs": [
    {
     "name": "stdout",
     "output_type": "stream",
     "text": [
      "Enter your email: ram.mohan@gmail.com\n",
      "First Name is: ram\n",
      "First Name is: mohan\n",
      "Domain Name is: www.gmail.com\n"
     ]
    }
   ],
   "source": [
    "email=input(\"Enter your email: \")\n",
    "try:\n",
    "    FN=email.split(\".\",1)[0]\n",
    "    rem=email.split(\".\",1)[1]\n",
    "    LN=rem.split(\"@\",1)[0]\n",
    "    rem=rem.split(\"@\",1)[1]\n",
    "    dom=rem\n",
    "    print('First Name is: '+FN)\n",
    "    print('First Name is: '+LN)\n",
    "    print('Domain Name is: '+'www.'+dom)\n",
    "except:\n",
    "    print('Check your email Address, It should be <first name>.<lastname>@domain')"
   ]
  },
  {
   "cell_type": "markdown",
   "id": "5cd6fe4c",
   "metadata": {},
   "source": [
    "# Question 2"
   ]
  },
  {
   "cell_type": "code",
   "execution_count": 22,
   "id": "2fb103dc",
   "metadata": {},
   "outputs": [
    {
     "name": "stdout",
     "output_type": "stream",
     "text": [
      "Enter No of Students :2\n",
      "Enter student Name :rammohan\n",
      "Enter RAMMOHAN's Marks in English:69\n",
      "EnterRAMMOHANMarks in Maths:98\n",
      "EnterstudentMarks in Science:89\n",
      "EnterstudentMarks in Computers:76\n",
      "Name\t\tEnglish\t Maths\t Science\t Computers\t Total\t Average\t Percentage\t Grade\n",
      "\n",
      "RAMMOHAN\t69\t 98\t 89\t\t 76\t\t 332\t 83.0\t\t 83.0\t\t A Grade\n",
      "Enter student Name :Sai sindhu\n",
      "Enter SAI SINDHU's Marks in English:96\n",
      "EnterSAI SINDHUMarks in Maths:97\n",
      "EnterstudentMarks in Science:86\n",
      "EnterstudentMarks in Computers:45\n",
      "Name\t\tEnglish\t Maths\t Science\t Computers\t Total\t Average\t Percentage\t Grade\n",
      "\n",
      "SAI SINDHU\t96\t 97\t 86\t\t 45\t\t 324\t 81.0\t\t 81.0\t\t A Grade\n"
     ]
    }
   ],
   "source": [
    "noofstd=input(\"Enter No of Students :\")\n",
    "noofstd=int(noofstd)\n",
    "for i in range(noofstd):\n",
    "    try:\n",
    "        student= input(\"Enter student Name :\").upper()\n",
    "        English=input(\"Enter \"+student+\"'s Marks in English:\")\n",
    "        Maths=input(\"Enter\"+student+'Marks in Maths:')\n",
    "        Science=input(\"Enter\"+\"student\"+'Marks in Science:')\n",
    "        Computer=input(\"Enter\"+\"student\"+'Marks in Computers:')\n",
    "        Total= int(English)+int(Maths)+int(Science)+int(Computer)\n",
    "        Percentage= round((Total/400)*100,5)\n",
    "        Average= round((Total/4),5)\n",
    "        if Percentage >=80 :\n",
    "            Grade='A Grade'\n",
    "        elif Percentage >=70 and Percentage <80 :\n",
    "            Grade='B Grade'\n",
    "        elif Percentage >=50 and Percentage <70 :\n",
    "            Grade='C Grade'\n",
    "        elif Percentage <50 :\n",
    "            Grade='Fail'  \n",
    "        print('Name\\t\\tEnglish\\t Maths\\t Science\\t Computers\\t Total\\t Average\\t Percentage\\t Grade\\n')\n",
    "        print(student+'\\t'+English+'\\t '+Maths+'\\t '+Science+'\\t\\t '+Computer+'\\t\\t '+str(Total)+'\\t '+str(Average)+'\\t\\t '+str(Percentage)+'\\t\\t '+Grade+'\\n')\n",
    "    except:\n",
    "        print('Enter Correct Details.............')"
   ]
  },
  {
   "cell_type": "markdown",
   "id": "359bbef1",
   "metadata": {},
   "source": [
    "# Question 3"
   ]
  },
  {
   "cell_type": "code",
   "execution_count": 21,
   "id": "e85d584a",
   "metadata": {},
   "outputs": [
    {
     "name": "stdout",
     "output_type": "stream",
     "text": [
      "Enter No of Employees :1\n",
      "Enter Employee Name :rammohan\n",
      "Enter RAMMOHAN's Designation :pm\n",
      "Enter RAMMOHAN's Experiance :16\n",
      "Enter RAMMOHAN's Salary :10000\n",
      "Name\t\tDesignation\t Experiance\t Present Salary\t Hike\t\t Updated Salary\n",
      "\n",
      "RAMMOHAN\tPM\t\t 16\t\t 10000\t\t 2000.0\t 12000.0\n",
      "\n"
     ]
    }
   ],
   "source": [
    "noofemp=int(input(\"Enter No of Employees :\"))\n",
    "for i in range(noofemp):\n",
    "    try:\n",
    "        empname= input(\"Enter Employee Name :\").upper()\n",
    "        empdesig= input(\"Enter \"+empname+\"'s Designation :\").upper()\n",
    "        empexp= int(input(\"Enter \"+empname+\"'s Experiance :\"))\n",
    "        empSal= int(input(\"Enter \"+empname+\"'s Salary :\"))\n",
    "        if empdesig=='PM':\n",
    "            if empexp >15 :\n",
    "                salhike=empSal*.20\n",
    "                upsal=empSal+salhike\n",
    "            elif empexp >10 and empexp <=15 :\n",
    "                salhike=empSal*.15\n",
    "                upsal=empSal+salhike\n",
    "            else :\n",
    "                salhike=empSal*.12\n",
    "                upsal=empSal+salhike\n",
    "        elif empdesig=='TM':\n",
    "            if empexp >15 :\n",
    "                salhike=empSal*.22\n",
    "                upsal=empSal+salhike\n",
    "            elif empexp >12 and empexp <=15 :\n",
    "                salhike=empSal*.18\n",
    "                upsal=empSal+salhike\n",
    "            else :\n",
    "                salhike=empSal*.15\n",
    "                upsal=empSal+salhike\n",
    "        elif empdesig=='DEV':\n",
    "            if empexp >10 :\n",
    "                salhike=empSal*.18\n",
    "                upsal=empSal+salhike\n",
    "            elif empexp >8 and empexp <=10 :\n",
    "                salhike=empSal*.14\n",
    "                upsal=empSal+salhike\n",
    "            else :\n",
    "                salhike=empSal*.10\n",
    "                upsal=empSal+salhike\n",
    "        else :\n",
    "                salhike=empSal*.10\n",
    "                upsal=empSal+salhike\n",
    "        print('Name\\t\\tDesignation\\t Experiance\\t Present Salary\\t Hike\\t\\t Updated Salary\\n')\n",
    "        print(empname+'\\t'+str(empdesig)+'\\t\\t '+str(empexp)+'\\t\\t '+str(empSal)+'\\t\\t '+str(salhike)+'\\t\\t '+str(upsal)+'\\n')\n",
    "    except:\n",
    "        print('Enter Correct Details ..........')"
   ]
  },
  {
   "cell_type": "code",
   "execution_count": null,
   "id": "c7d14899",
   "metadata": {},
   "outputs": [],
   "source": []
  }
 ],
 "metadata": {
  "kernelspec": {
   "display_name": "Python 3",
   "language": "python",
   "name": "python3"
  },
  "language_info": {
   "codemirror_mode": {
    "name": "ipython",
    "version": 3
   },
   "file_extension": ".py",
   "mimetype": "text/x-python",
   "name": "python",
   "nbconvert_exporter": "python",
   "pygments_lexer": "ipython3",
   "version": "3.7.6"
  }
 },
 "nbformat": 4,
 "nbformat_minor": 5
}
